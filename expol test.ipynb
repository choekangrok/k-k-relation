{
 "cells": [
  {
   "cell_type": "code",
   "execution_count": 26,
   "id": "facc0be0",
   "metadata": {},
   "outputs": [
    {
     "name": "stdout",
     "output_type": "stream",
     "text": [
      "0.05059296557734522\n",
      "0.0608995129112318\n",
      "0.0608995129112318\n",
      "0.0608995129112318\n",
      "0.0608995129112318\n",
      "0.0608995129112318\n",
      "0.0608995129112318\n",
      "0.0608995129112318\n",
      "0.0608995129112318\n",
      "0.0608995129112318\n",
      "0.0608995129112318\n",
      "0.0608995129112318\n",
      "0.0608995129112318\n",
      "0.0608995129112318\n",
      "0.0608995129112318\n",
      "0.0608995129112318\n",
      "0.0608995129112318\n",
      "0.0608995129112318\n",
      "0.0608995129112318\n",
      "0.0608995129112318\n",
      "0.0608995129112318\n",
      "0.0608995129112318\n",
      "0.0608995129112318\n",
      "0.0608995129112318\n",
      "0.0608995129112318\n",
      "0.0608995129112318\n",
      "0.0608995129112318\n",
      "0.0608995129112318\n",
      "0.0608995129112318\n",
      "0.0608995129112318\n"
     ]
    }
   ],
   "source": [
    "import requests\n",
    "import pandas as pd\n",
    "import csv\n",
    "from io import StringIO\n",
    "import matplotlib.pyplot as plt\n",
    "import numpy as np\n",
    "from scipy import integrate\n",
    "import math\n",
    "from numba import njit\n",
    "from numba.typed import List\n",
    "import time\n",
    "import cmath\n",
    "\n",
    "\n",
    "def kk_expol_late4(w,a,t=6):\n",
    "    def f(fron,rear):\n",
    "        return math.log(fron)*math.log(abs(rear-1)/(rear+1))\n",
    "    def furier(w,a):\n",
    "        fsum = 0\n",
    "        for n in range(t):\n",
    "            fsum += 2/(2*n+1)**2*(w/a)**(2*n+1)\n",
    "        return fsum\n",
    "    return furier(w,a)/2/w+f(w/a,w/a)/2/w-f(w,a/w)/2/w\n",
    "for i in range(30):\n",
    "    print(kk_expol_late4(50,100,i*10000))"
   ]
  },
  {
   "cell_type": "code",
   "execution_count": 85,
   "id": "62a8ba2d",
   "metadata": {},
   "outputs": [
    {
     "name": "stdout",
     "output_type": "stream",
     "text": [
      "-0.2428994377419088\n",
      "0.0607248594354772\n"
     ]
    }
   ],
   "source": [
    "def get_KK_f2(w,list_X,list_Y):\n",
    "    \n",
    "    def g(x,y):\n",
    "        if x==y:\n",
    "            return (x+y)*math.log(x+y)/2/x\n",
    "        elif y == math.inf:\n",
    "            return 0\n",
    "        else:\n",
    "            return (x+y)*math.log(x+y)/2/x+(x-y)*math.log(abs(x-y))/2/x\n",
    "    def h(x,y,z):\n",
    "        return (x+z)*math.log(x+y)/2/x+(x-z)*math.log(abs(x-y))/2/x\n",
    "\n",
    "    def kk_linearfit(w,w0,w1,w2):\n",
    "        return g(w,w0)/(w0-w1)+(w0-w2)*g(w,w1)/(w1-w0)/(w1-w2)+g(w,w2)/(w1-w2)\n",
    "    def kk_linear_front(w,w1,w2):\n",
    "        return g(w,w2)/(w1-w2)-h(w,w1,w2)/(w1-w2)\n",
    "    \n",
    "    kk_sum=0\n",
    "    for i in range(len(list_X)):\n",
    "        if i==0:\n",
    "            w1=list_X[i]; w2=list_X[i+1]; y = math.log(list_Y[i])\n",
    "            kk_sum += y * kk_linear_front(w,w1,w2)\n",
    "        elif i==len(list_X)-1:\n",
    "            a=0\n",
    "        else:\n",
    "            x0 = list_X[i-1]; x1 = list_X[i]; x2 =list_X[i+1]; y = math.log(list_Y[i])\n",
    "            kk_sum += y * kk_linearfit(w,x0,x1,x2)\n",
    "    return kk_sum\n",
    "\n",
    "list_X = np.logspace(np.log10(100), np.log10(1e40),200)\n",
    "list_Y = list_X\n",
    "print(-4*get_KK_f2(50,list_X,list_Y))\n",
    "list_Y = list_X\n",
    "print(get_KK_f2(50,list_X,list_Y))"
   ]
  },
  {
   "cell_type": "code",
   "execution_count": 83,
   "id": "e28d8c87",
   "metadata": {},
   "outputs": [
    {
     "name": "stdout",
     "output_type": "stream",
     "text": [
      "0.00023261059129908024\n"
     ]
    }
   ],
   "source": [
    "x = np.logspace(np.log10(1E-7), np.log10(206),1000)\n",
    "X = 208.29 ; Y=0.97459\n",
    "a = (1-Y)/X**(1/2)\n",
    "y = 1-a*x**(1/2)\n",
    "\n",
    "print(get_KK_f2(208,x,y))"
   ]
  },
  {
   "cell_type": "code",
   "execution_count": null,
   "id": "65bda668",
   "metadata": {},
   "outputs": [],
   "source": []
  }
 ],
 "metadata": {
  "kernelspec": {
   "display_name": "Python 3 (ipykernel)",
   "language": "python",
   "name": "python3"
  },
  "language_info": {
   "codemirror_mode": {
    "name": "ipython",
    "version": 3
   },
   "file_extension": ".py",
   "mimetype": "text/x-python",
   "name": "python",
   "nbconvert_exporter": "python",
   "pygments_lexer": "ipython3",
   "version": "3.9.13"
  }
 },
 "nbformat": 4,
 "nbformat_minor": 5
}
